{
 "cells": [
  {
   "cell_type": "markdown",
   "metadata": {},
   "source": [
    "# ACTIVIDAD 2 - CONOCIMIENTO"
   ]
  },
  {
   "cell_type": "markdown",
   "metadata": {},
   "source": [
    "Librería que utilizaremos para realizar la actividad:"
   ]
  },
  {
   "cell_type": "code",
   "execution_count": null,
   "metadata": {},
   "outputs": [],
   "source": [
    "import logic # librería utilizada en clase"
   ]
  },
  {
   "cell_type": "markdown",
   "metadata": {},
   "source": [
    "En una isla remota, hay dos tipos de habitantes: caballeros (knights) y ladrones (knaves). Los caballeros siempre dicen la verdad, mientras que los ladrones siempre mienten.\n",
    "\n",
    "Un día, te encuentras con tres habitantes de la isla, A y B (y C), pero no sabes quién es quién. Quieres averiguar qué tipo de habitante es cada uno de ellos.\n",
    "\n",
    "Utilizar el algoritmo de **model checking** para encontrar la solución.\n",
    "\n",
    "*Aclaración: los escenarios son independientes entre si, es decir, cada escenario representa un problema aislado y no se conectan entre ellos.*"
   ]
  },
  {
   "cell_type": "markdown",
   "metadata": {},
   "source": [
    "### Primer escenario:\n",
    "\n",
    "**A dice: “Soy un caballero y un ladrón”**"
   ]
  },
  {
   "cell_type": "code",
   "execution_count": null,
   "metadata": {},
   "outputs": [],
   "source": [
    "# Crear la base de conocimiento correspondiente y las consultas necesarias \n",
    "# para averiguar de que isla es cada habitante"
   ]
  },
  {
   "cell_type": "markdown",
   "metadata": {},
   "source": [
    "### Segundo escenario:\n",
    "\n",
    "**A dice: “Ambos somos ladrones”**\n",
    "\n",
    "**B no dice nada**"
   ]
  },
  {
   "cell_type": "code",
   "execution_count": null,
   "metadata": {},
   "outputs": [],
   "source": [
    "# Crear la base de conocimiento correspondiente y las consultas necesarias \n",
    "# para averiguar de que isla es cada habitante"
   ]
  },
  {
   "cell_type": "markdown",
   "metadata": {},
   "source": [
    "### Tercer escenario:\n",
    "\n",
    "**A dice: “Somos del mismo tipo”**\n",
    "\n",
    "**B dice: “Somos de distintos tipos”**"
   ]
  },
  {
   "cell_type": "code",
   "execution_count": null,
   "metadata": {},
   "outputs": [],
   "source": [
    "# Crear la base de conocimiento correspondiente y las consultas necesarias \n",
    "# para averiguar de que isla es cada habitante"
   ]
  },
  {
   "cell_type": "markdown",
   "metadata": {},
   "source": [
    "### Cuarto escenario:\n",
    "\n",
    "**A dice: “Soy un caballero” o “Soy un ladrón” (pero no sabemos cuál frase dijo)**\n",
    "\n",
    "**B dice: “A dijo ‘Soy un ladrón’ ”**\n",
    "\n",
    "**B luego dice: “C es un ladrón”**\n",
    "\n",
    "**C dice “A es un caballero”**"
   ]
  },
  {
   "cell_type": "code",
   "execution_count": null,
   "metadata": {},
   "outputs": [],
   "source": [
    "# Crear la base de conocimiento correspondiente y las consultas necesarias \n",
    "# para averiguar de que isla es cada habitante"
   ]
  }
 ],
 "metadata": {
  "language_info": {
   "name": "python"
  }
 },
 "nbformat": 4,
 "nbformat_minor": 2
}

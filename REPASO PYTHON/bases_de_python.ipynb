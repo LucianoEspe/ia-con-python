{
 "cells": [
  {
   "attachments": {},
   "cell_type": "markdown",
   "metadata": {},
   "source": [
    "# <center>**PYTHON - CONCEPTOS BÁSICOS**</center>\n",
    "### En este notebook veremos los conceptos necesarios para poder comenzar a programar en Python"
   ]
  },
  {
   "attachments": {},
   "cell_type": "markdown",
   "metadata": {},
   "source": [
    "#### 1. <u>**Variables**</u>\n"
   ]
  },
  {
   "attachments": {},
   "cell_type": "markdown",
   "metadata": {},
   "source": [
    "\n",
    "Una variable es un espacio en memoria que se utiliza para almacenar un valor. En Python, las variables se crean cuando se les asigna un valor. No es necesario declararlas previamente como en otros lenguajes de programación. El tipo de dato de la variable se determina en tiempo de ejecución, según el valor que se le asigne.\n",
    "\n",
    "Para asignar un valor a una variable se utiliza el operador de asignación **=**. El valor de la derecha se asigna a la variable de la izquierda.\n",
    "\n",
    "**Ejemplos:**\n"
   ]
  },
  {
   "cell_type": "code",
   "execution_count": null,
   "metadata": {},
   "outputs": [],
   "source": [
    "a = 5\n",
    "b = 3.14\n",
    "c = \"Hola\""
   ]
  },
  {
   "attachments": {},
   "cell_type": "markdown",
   "metadata": {},
   "source": [
    "En el ejemplo anterior, se crearon tres variables: a, b y c. La variable a es de tipo **entero**, la variable b es de tipo **flotante** y la variable c es de tipo **cadena de caracteres**.\n",
    "\n",
    "Para mostrar el valor de una variable se utiliza la función **print()**. \n",
    "\n",
    "**Ejemplos:**\n"
   ]
  },
  {
   "cell_type": "code",
   "execution_count": null,
   "metadata": {},
   "outputs": [],
   "source": [
    "print(a)\n",
    "print(b)\n",
    "print(c)"
   ]
  },
  {
   "attachments": {},
   "cell_type": "markdown",
   "metadata": {},
   "source": [
    "\n",
    "Los nombres de las variables pueden contener letras, números y el carácter guión bajo ( **_** ). No pueden comenzar con un número. Python distingue entre \n",
    "mayúsculas y minúsculas, por lo que las variables **a** y **A** son diferentes.  \n",
    "  \n",
    "**En la funcion **print( )** podemos escribir texto utilizando comillas **\" \"**. Para imprimir el valor de una variable luego de un texto se separa con una coma ( **,** ) .*\n",
    "\n",
    "**Ejemplos:**\n"
   ]
  },
  {
   "cell_type": "code",
   "execution_count": null,
   "metadata": {},
   "outputs": [],
   "source": [
    "a = 5\n",
    "A = 10\n",
    "print(\"La variable a es:\", a, \"y la variable A es:\", A)"
   ]
  },
  {
   "attachments": {},
   "cell_type": "markdown",
   "metadata": {},
   "source": [
    "\n",
    "Los nombres de las variables deben ser descriptivos, para que el código sea más fácil de entender. Por ejemplo, si se desea almacenar el nombre de una persona, se puede utilizar la variable **nombre**. Si se desea almacenar la edad de una persona, se puede utilizar la variable **edad**.  \n",
    "  \n",
    "**Si utilizamos f antes de las comillas, podemos utilizar variables dentro de la cadena de texto, utilizando llaves **{ }** para indicar que es una variable.*\n"
   ]
  },
  {
   "cell_type": "code",
   "execution_count": null,
   "metadata": {},
   "outputs": [],
   "source": [
    "nombre=\"Juan\"\n",
    "edad=25\n",
    "print(f\"Mi nombre es: {nombre} y tengo {edad} años\") "
   ]
  },
  {
   "attachments": {},
   "cell_type": "markdown",
   "metadata": {},
   "source": [
    "##### <u>Convención de nombres</u>\n"
   ]
  },
  {
   "attachments": {},
   "cell_type": "markdown",
   "metadata": {},
   "source": [
    "\n",
    "Para simplificar la tarea de leer el código, se utilizan algunas convenciones para nombrar las variables, funciones, clases, etc.  \n",
    "\n",
    "**Convenciones para nombrar variables:**\n",
    "* Se utiliza minúscula para el primer caracter del nombre de la variable.\n",
    "* Si el nombre de la variable está compuesto por más de una palabra, se separan las palabras con guión bajo ( **_** ).  \n",
    "  \n",
    "**Ejemplos:**  \n",
    "\n",
    "```python\n",
    "variable = 10\n",
    "numero_decimal = 5.78\n",
    "apellido_persona = \"Perez\"\n",
    "```\n",
    "**Convenciones para nombrar funciones:**\n",
    "* Se utiliza la misma convención que para las variables.\n",
    "\n",
    "**Ejemplos:**  \n",
    "\n",
    "```python\n",
    "def calcular_area_circulo(radio):\n",
    "    area = 3.14 * radio ** 2\n",
    "    return area\n",
    "\n",
    "def contar(n):\n",
    "    for i in range(n):\n",
    "        print(i)\n",
    "```\n",
    "**Convenciones para nombrar clases:**\n",
    "* Se utiliza mayúscula para el primer caracter del nombre de la clase.\n",
    "* Si el nombre de la clase está compuesto por más de una palabra, se utiliza mayúscula para el primer caracter de cada palabra.\n",
    "\n",
    "**Ejemplos:**  \n",
    "\n",
    "```python\n",
    "class Persona:\n",
    "    def __init__(self, nombre, apellido):\n",
    "        self.nombre = nombre\n",
    "        self.apellido = apellido\n",
    "class UsarApiClima:\n",
    "    def __init__(self, api_key):\n",
    "        self.api_key = api_key\n",
    "```\n",
    "\n",
    "**Convenciones para nombrar constantes:**\n",
    "* Se utiliza mayúscula para el nombre de la constante.\n",
    "* Si el nombre de la constante está compuesto por más de una palabra, se separan las palabras con guión bajo ( **_** ).\n",
    "\n",
    "**Ejemplos:**  \n",
    "\n",
    "```python\n",
    "PI = 3.14\n",
    "VELOCIDAD_LUZ = 299792458\n",
    "```\n",
    "**Convenciones para nombrar módulos:**\n",
    "* Se utiliza minúscula para el nombre del módulo.\n",
    "* Si el nombre del módulo está compuesto por más de una palabra, se separan las palabras con guión bajo ( **_** ).\n",
    "\n",
    "**Ejemplos:**  \n",
    "\n",
    "```python\n",
    "import math\n",
    "import random\n",
    "import mi_modulo\n",
    "```"
   ]
  },
  {
   "attachments": {},
   "cell_type": "markdown",
   "metadata": {},
   "source": [
    "\n",
    "#### 2. <u>**Tipos de datos**</u>\n"
   ]
  },
  {
   "attachments": {},
   "cell_type": "markdown",
   "metadata": {},
   "source": [
    "\n",
    "En Python existen varios tipos de datos. Para saber el tipo de dato de una variable se utiliza la función **type()**.\n",
    "Los más utilizados son:\n",
    "##### **Números**\n",
    "\n",
    "Los números se clasifican en:\n",
    "- Enteros **(int)**: Los números enteros son aquellos que no tienen parte decimal. Por ejemplo: 1, 2, 3, 4, 5, etc.\n",
    "- Flotantes **(float)**: Los números flotantes son aquellos que tienen parte decimal. Por ejemplo: 1.2, 3.14, 5.678, etc.  \n",
    "  \n",
    "**Para escribir un número flotante se utiliza el carácter punto (.) como separador decimal.*\n",
    "\n",
    "**Ejemplos:**"
   ]
  },
  {
   "cell_type": "code",
   "execution_count": null,
   "metadata": {},
   "outputs": [],
   "source": [
    "a = 10 # Entero\n",
    "b = 5.78 # Flotante\n",
    "print(\"La variable a es de tipo:\", type(a), \"y la variable b es de tipo:\", type(b))"
   ]
  },
  {
   "attachments": {},
   "cell_type": "markdown",
   "metadata": {},
   "source": [
    "\n",
    "##### **Cadenas de caracteres**\n",
    "\n",
    "Las cadenas de caracteres o strings se utilizan para almacenar texto. Para escribir una cadena de caracteres se utilizan comillas simples ('') o dobles (\"\"). Por ejemplo: 'Hola', \"Mundo\", '123', \"3.14\", etc.\n",
    "\n",
    "Las cadenas de caracteres se pueden concatenar utilizando el operador **+**.\n",
    "\n",
    "**Ejemplo:**\n"
   ]
  },
  {
   "cell_type": "code",
   "execution_count": null,
   "metadata": {},
   "outputs": [],
   "source": [
    "a = \"Hola\"\n",
    "b = \"Mundo\"\n",
    "print(a+b)"
   ]
  },
  {
   "attachments": {},
   "cell_type": "markdown",
   "metadata": {},
   "source": [
    "Cuando se desea escribir una cadena de caracteres que ocupa más de una línea, se utiliza triple comilla simple (''') o triple comilla doble (\"\"\").\n",
    "\n",
    "**Ejemplo:**"
   ]
  },
  {
   "cell_type": "code",
   "execution_count": null,
   "metadata": {},
   "outputs": [],
   "source": [
    "menu=\"\"\"\n",
    "MENU\n",
    "1) Sumar        2) Restar\n",
    "3) Multiplicar  4) Dividir\n",
    "5) Salir\n",
    "\"\"\"\n",
    "print(menu)"
   ]
  },
  {
   "attachments": {},
   "cell_type": "markdown",
   "metadata": {},
   "source": [
    "**Podemos convertir variables a diferentes tipos de datos utilizando las funciones **int()**, **float()** y **str()**.*"
   ]
  },
  {
   "attachments": {},
   "cell_type": "markdown",
   "metadata": {},
   "source": [
    "**Booleanos**\n",
    "\n",
    "Los booleanos son un tipo de dato que puede tener dos valores: **True** o **False**. Se utilizan para representar valores de verdad. Por ejemplo: 1 > 2 es falso, 2 == 2 es verdadero, etc. También se pueden utilizar para representar estados. Por ejemplo: si una luz está encendida, el valor es True, si está apagada, el valor es False, o para inicializar un bucle.\n",
    "  \n",
    "*Tanto True como False deben escribirse con la primera letra en mayúscula ya que son palabras reservadas de Python.*\n",
    "\n",
    "**Ejemplos:**\n"
   ]
  },
  {
   "cell_type": "code",
   "execution_count": null,
   "metadata": {},
   "outputs": [],
   "source": [
    "luz = True\n",
    "if luz == True:\n",
    "    print(\"La luz está prendida\")\n",
    "else:\n",
    "    print(\"La luz está apagada\")"
   ]
  },
  {
   "cell_type": "code",
   "execution_count": null,
   "metadata": {},
   "outputs": [],
   "source": [
    "contador = 0\n",
    "while True:\n",
    "    contador += 1\n",
    "    print(contador,end=\" \")\n",
    "    if contador == 5:\n",
    "        break\n",
    "print(\"\\nFin del ciclo\")"
   ]
  },
  {
   "attachments": {},
   "cell_type": "markdown",
   "metadata": {},
   "source": [
    "**Listas**\n",
    "\n",
    "Las listas son un tipo de dato que se utiliza para almacenar varios valores. Se pueden almacenar valores de diferentes tipos. Para escribir una lista se utilizan corchetes ( [] ) y se separan los valores con comas ( , ). Por ejemplo: [1, 2, 3, 4, 5], [\"Hola\", \"Mundo\"], [1, \"Hola\", 3.14, True], etc.\n",
    "\n",
    "**Ejemplos:**"
   ]
  },
  {
   "cell_type": "code",
   "execution_count": null,
   "metadata": {},
   "outputs": [],
   "source": [
    "numeros = [1,2,3,4,5]\n",
    "autos = [\"Mazda\",\"Toyota\",\"Honda\",\"Ford\"]\n",
    "mixto = [5.5,10,\"Texto\",False]\n",
    "\n",
    "print(numeros)\n",
    "print(autos)\n",
    "print(mixto)"
   ]
  },
  {
   "attachments": {},
   "cell_type": "markdown",
   "metadata": {},
   "source": [
    "Para acceder a un elemento de la lista se utiliza el índice del elemento. Tanto en listas como en cadenas de caracteres, el primer elemento tiene índice 0. Podemos modificar el valor de un elemento de la lista utilizando el índice.\n",
    "  \n",
    "Por ejemplo: si se desea acceder al primer elemento de la lista, se utiliza el índice 0, si se desea acceder al segundo elemento de la lista, se utiliza el índice 1, etc.  \n",
    "  \n",
    "Tambien podemos acceder a los elementos de la lista utilizando índices negativos.   \n",
    "  \n",
    "Por ejemplo: si se desea acceder al último elemento de la lista, se utiliza el índice -1, si se desea acceder al penúltimo elemento de la lista, se utiliza el índice -2, etc.\n"
   ]
  },
  {
   "cell_type": "code",
   "execution_count": null,
   "metadata": {},
   "outputs": [],
   "source": [
    "numeros[0]=85\n",
    "print(numeros[0])\n",
    "print(autos[2])\n",
    "print(mixto[-1])"
   ]
  },
  {
   "attachments": {},
   "cell_type": "markdown",
   "metadata": {},
   "source": [
    "\n",
    "Las listas se pueden modificar. Se puede agregar un elemento al final de la lista utilizando el método **append()**. Tambien se puede agregar un elemento en una posición determinada utilizando el método **insert()**.  \n",
    "  \n",
    "Es posible concatenar dos o mas listas utilizando el operador **+**.\n",
    "  \n",
    "Para eliminar un elemento de la lista podemos utilizar el método **remove()** o el método **del**. El método **pop()** elimina el elemento de la posición indicada y devuelve el valor eliminado. Si no se indica la posición, elimina el último elemento de la lista.  \n",
    "  \n",
    "El método **clear()** elimina todos los elementos de la lista."
   ]
  },
  {
   "cell_type": "code",
   "execution_count": null,
   "metadata": {},
   "outputs": [],
   "source": [
    "numeros.append(6)\n",
    "numeros.remove(3)\n",
    "autos.insert(1,\"Chevrolet\")\n",
    "mixto.pop()\n",
    "\n",
    "print(numeros)\n",
    "print(autos)\n",
    "print(mixto)"
   ]
  },
  {
   "attachments": {},
   "cell_type": "markdown",
   "metadata": {},
   "source": [
    "\n",
    "Otra forma de anexar elementos a una lista es utilizando el operador **+=**. Tambien se puede utilizar el metodo **extend()**.\n",
    "\n",
    "**Ejemplos:**"
   ]
  },
  {
   "cell_type": "code",
   "execution_count": null,
   "metadata": {},
   "outputs": [],
   "source": [
    "lista = [1, 2, 3, 4, 5]\n",
    "lista += [6, 7, 8, 9, 10]\n",
    "print(lista)\n",
    "lista.extend([11, 12, 13, 14, 15])\n",
    "print(lista)"
   ]
  },
  {
   "attachments": {},
   "cell_type": "markdown",
   "metadata": {},
   "source": [
    "Si deseamos copiar una lista, podemos utilizar el método **copy()** o el método **list()**.\n",
    "  \n",
    "*Es importante aclarar que si simplemente hacemos una lista igual a otra, al modificar la segunda estaremos modificando la original*\n",
    "\n",
    "**Ejemplos:**"
   ]
  },
  {
   "cell_type": "code",
   "execution_count": null,
   "metadata": {},
   "outputs": [],
   "source": [
    "lista_1 = [1, 2, 3, 4, 5]\n",
    "lista_2 = lista_1.copy()\n",
    "lista_3 = list(lista_2)\n",
    "\n",
    "lista_modificada = lista_1\n",
    "lista_modificada[0] = 10    # También modifica lista_1\n",
    "\n",
    "lista_2[0] = 20             # No modifica lista_1\n",
    "\n",
    "print(\"Lista 1:\",lista_1,\"Lista modificada:\",lista_modificada)\n",
    "\n",
    "print(\"Lista 2:\",lista_2,\"Lista 3:\",lista_3)\n"
   ]
  },
  {
   "attachments": {},
   "cell_type": "markdown",
   "metadata": {},
   "source": [
    "Otra operacion que podemos realizar con las listas es cortarlas. Para ello utilizamos el operador **[ inicio : final : paso ]**.\n",
    "  \n",
    "*En caso de iniciar en 0, finalizar en el último elemento o utilizar paso 1, podemos omitirlos.*\n",
    "  \n",
    "El final no es inclusivo, es decir, el elemento del índice final no se incluye en la lista resultante.\n",
    "\n",
    "**Ejemplos:**"
   ]
  },
  {
   "cell_type": "code",
   "execution_count": null,
   "metadata": {},
   "outputs": [],
   "source": [
    "mi_lista = [10,20,30,40,50]\n",
    "mi_lista_cortada = mi_lista[1:4]\n",
    "print(mi_lista[:3])\n",
    "print(mi_lista[2:4])\n",
    "print(mi_lista_cortada)\n",
    "print(\"Mi lista al revés:\",mi_lista[::-1])"
   ]
  },
  {
   "attachments": {},
   "cell_type": "markdown",
   "metadata": {},
   "source": [
    "Es posible crear matrices utilizando listas anidadas. Por ejemplo: [[1, 2, 3],[4, 5, 6],[7, 8, 9]].\n",
    "\n",
    "Esta matriz tiene 3 filas y 3 columnas, y se puede representar de la siguiente manera:  \n",
    "\n",
    "| 1 | 2 | 3 |\n",
    "|:---:|:---:|:---:|\n",
    "| 4 | 5 | 6 |\n",
    "| 7 | 8 | 9 |\n",
    "\n",
    "Para acceder a un elemento de la matriz se utiliza el índice de la fila y el índice de la columna.  \n",
    "  \n",
    "**Ejemplos:**"
   ]
  },
  {
   "cell_type": "code",
   "execution_count": null,
   "metadata": {},
   "outputs": [],
   "source": [
    "matriz = [[1,2,3],[4,5,6],[7,8,9]]\n",
    "print(matriz[0][0])\n",
    "print(matriz[2][2])\n",
    "matriz[1][1] = 10\n",
    "print(matriz[1][1])\n",
    "print(matriz)"
   ]
  },
  {
   "attachments": {},
   "cell_type": "markdown",
   "metadata": {},
   "source": [
    "En conclusion, hay infinidad de operaciones que podemos utilizar con las listas. A continuacion vemos un resumen con los metodos mas utilizados:\n",
    "| Método | Descripción |\n",
    "| --- | --- |\n",
    "| append() | Agrega un elemento al final de la lista |\n",
    "| insert() | Agrega un elemento en la posición indicada |\n",
    "| remove() | Elimina el elemento indicado |\n",
    "| pop() | Elimina el elemento de la posición indicada y devuelve el valor eliminado |\n",
    "| del | Elimina el elemento de la posición indicada |\n",
    "| clear() | Elimina todos los elementos de la lista |\n",
    "| copy() | Devuelve una copia de la lista |\n",
    "| list() | Devuelve una copia de la lista o crea una lista vacia |\n",
    "| += | Anexa los elementos de una lista a otra |\n",
    "| extend() | Agrega los elementos de una lista a otra |\n",
    "| index() | Devuelve el índice del elemento indicado |\n",
    "| count() | Devuelve la cantidad de veces que aparece el elemento indicado |\n",
    "| sort() | Ordena la lista de menor a mayor o por orden alfabetico |\n",
    "| reverse() | Invierte la lista |\n",
    "| len() | Devuelve la cantidad de elementos de la lista |\n",
    "| min() | Devuelve el elemento de menor valor de la lista |\n",
    "| max() | Devuelve el elemento de mayor valor de la lista |\n",
    "| sum() | Devuelve la suma de los elementos de la lista |\n",
    "| enumerate() | Devuelve una lista de tuplas con el índice y el valor de cada elemento de la lista |\n",
    "| [ inicio : final : paso ] | Devuelve una lista con los elementos desde el índice inicio hasta el índice final con el paso indicado |\n",
    "\n"
   ]
  },
  {
   "attachments": {},
   "cell_type": "markdown",
   "metadata": {},
   "source": [
    "**Tuplas**\n",
    "\n",
    "Las tuplas son un tipo de dato que se utiliza para almacenar varios valores. Se pueden almacenar valores de diferentes tipos. Para escribir una tupla se utilizan paréntesis ( () ) y se separan los valores con comas ( , ). Por ejemplo: (1, 2, 3, 4, 5), (\"Hola\", \"Mundo\"), (1, \"Hola\", 3.14, True), etc.\n",
    "  \n",
    "A diferencia de las listas, las tuplas no se pueden modificar. Una vez creada la tupla, no se pueden agregar, eliminar o modificar los elementos."
   ]
  },
  {
   "attachments": {},
   "cell_type": "markdown",
   "metadata": {},
   "source": [
    "**Diccionarios**\n",
    "\n",
    "Los diccionarios son un tipo de dato que se utiliza para almacenar varios valores. Se pueden almacenar valores de diferentes tipos. Para escribir un diccionario se utilizan llaves ( {} ) y se separan las claves y los valores con dos puntos ( : ). Por ejemplo: {\"nombre\": \"Juan\", \"apellido\": \"Perez\"}, {\"nombre\": \"Maria\", \"apellido\": \"Gomez\"}, etc. Tambien podemos utilizar el método **dict()**.\n",
    "\n",
    "Los diccionarios se pueden modificar. Se puede agregar un elemento utilizando una clave que no exista. Tambien se puede modificar el valor de un elemento utilizando la clave.\n",
    "\n",
    "Para eliminar un elemento del diccionario se utiliza la palabra reservada **del**.\n",
    "\n",
    "Para acceder a un elemento del diccionario se utiliza la clave del elemento como si fuera un índice. Tambien se puede utilizar el método **get()**.\n",
    "\n",
    "**Ejemplos:**"
   ]
  },
  {
   "cell_type": "code",
   "execution_count": null,
   "metadata": {},
   "outputs": [],
   "source": [
    "alumno_1 = {\"nombre\":\"Juan\",\"apellido\":\"Perez\",\"edad\":25}\n",
    "alumno_2 = dict(nombre=\"Jose\",apellido=\"Martinez\",edad=40)\n",
    "print(\"El alumno 1 se llama\",alumno_1[\"nombre\"],alumno_1[\"apellido\"],\"y tiene\",alumno_1[\"edad\"],\"años\")\n",
    "print(\"El alumno 2 se llama\",alumno_2[\"nombre\"],alumno_2[\"apellido\"],\"y tiene\",alumno_2[\"edad\"],\"años\")\n",
    "\n",
    "nombre_alumno_1 = alumno_1.get(\"nombre\")\n",
    "print(nombre_alumno_1)"
   ]
  },
  {
   "attachments": {},
   "cell_type": "markdown",
   "metadata": {},
   "source": [
    "\n",
    "#### 3. <u>**Operadores**</u>\n"
   ]
  },
  {
   "attachments": {},
   "cell_type": "markdown",
   "metadata": {},
   "source": [
    "\n",
    "Los operadores son símbolos que indican a Python que realice una operación matemática o lógica. Los operadores se clasifican en:\n",
    "- Operadores aritméticos\n",
    "\n",
    "    | Operador | Descripción | Ejemplo |\n",
    "    | :---: | :---: | :---: |\n",
    "    | + | Suma | 2 + 3 = 5 |\n",
    "    | - | Resta | 5 - 2 = 3 |\n",
    "    | * | Multiplicación | 2 * 3 = 6 |\n",
    "    | / | División | 6 / 2 = 3 |\n",
    "    | // | División entera | 6 // 2 = 3 |\n",
    "    | % | Módulo | 5 % 2 = 1 |\n",
    "    | ** | Potencia | 2 ** 3 = 8 |\n",
    "\n",
    "- Operadores de comparación\n",
    "\n",
    "    | Operador | Descripción | Ejemplo |\n",
    "    | :---: | :---: | :---: |\n",
    "    | == | Igual | 2 == 2 |\n",
    "    | != | Distinto | 2 != 3 |\n",
    "    | < | Menor que | 2 < 3 |\n",
    "    | > | Mayor que | 3 > 2 |\n",
    "    | <= | Menor o igual que | 2 <= 3 |\n",
    "    | >= | Mayor o igual que | 3 >= 2 |\n",
    "\n",
    "- Operadores lógicos\n",
    "\n",
    "    | Operador | Descripción | Ejemplo |\n",
    "    | :---: | :---: | :---: |\n",
    "    | and | Y | 2 < 3 and 3 < 4 |\n",
    "    | or | O | 2 < 3 or 3 < 2 |\n",
    "    | not | No | not 2 < 3 |\n",
    "\n",
    "- Operadores de pertenencia\n",
    "\n",
    "    | Operador | Descripción | Ejemplo |\n",
    "    | :---: | :---: | :---: |\n",
    "    | in | Pertenece | 2 in [1, 2, 3] |\n",
    "    | not in | No pertenece | 2 not in [1, 2, 3] |"
   ]
  },
  {
   "attachments": {},
   "cell_type": "markdown",
   "metadata": {},
   "source": [
    "\n",
    "#### 4. <u>**Estructuras de control**</u>\n"
   ]
  },
  {
   "attachments": {},
   "cell_type": "markdown",
   "metadata": {},
   "source": [
    "\n",
    "Las estructuras de control permiten modificar el flujo de ejecución de un programa. En Python, las estructuras de control se clasifican en:\n",
    "- Estructuras de control condicionales\n",
    "\n",
    "    | Estructura | Descripción | Ejemplo |\n",
    "    | :---: | :---: | :---: |\n",
    "    | if | Si | if 2 < 3: |\n",
    "    | else | Si no | if 2 < 3: <br> else: |\n",
    "    | elif | Si no, si | if 2 < 3: <br> elif 3 < 4: <br> else: |\n",
    "\n",
    "**Ejemplos:**"
   ]
  },
  {
   "cell_type": "code",
   "execution_count": null,
   "metadata": {},
   "outputs": [],
   "source": [
    "numero_1 = 11\n",
    "numero_2 = 3\n",
    "\n",
    "if numero_1 > numero_2:\n",
    "    print(\"El número 1 es mayor\")\n",
    "elif numero_1 < numero_2:\n",
    "    print(\"El número 2 es mayor\")\n",
    "else:\n",
    "    print(\"Los números son iguales\")\n"
   ]
  },
  {
   "cell_type": "code",
   "execution_count": null,
   "metadata": {},
   "outputs": [],
   "source": [
    "\n",
    "mensaje = \"Hola mundo\"\n",
    "if \"Hola\" in mensaje:                           # Operador in\n",
    "    print(\"La palabra Hola está en el mensaje\")"
   ]
  },
  {
   "attachments": {},
   "cell_type": "markdown",
   "metadata": {},
   "source": [
    "\n",
    "- Estructuras de control iterativas\n",
    "\n",
    "    | Estructura | Descripción | Ejemplo |\n",
    "    | :---: | :---: | :---: |\n",
    "    | while | Mientras | while 2 < 3: |\n",
    "    | for | Para | for i in range(10): |\n",
    "\n",
    "**Ejemplos:**"
   ]
  },
  {
   "cell_type": "code",
   "execution_count": null,
   "metadata": {},
   "outputs": [],
   "source": [
    "condicion = True\n",
    "contador = 0\n",
    "while condicion:\n",
    "    print(\"Ejecutando ciclo while, vuelta numero:\",contador+1)\n",
    "    if contador == 3:\n",
    "        condicion = False\n",
    "    contador += 1\n",
    "print(\"Fin del ciclo while\")"
   ]
  },
  {
   "attachments": {},
   "cell_type": "markdown",
   "metadata": {},
   "source": [
    "Las listas y las cadenas de caracteres son iterables. Podemos recorrer los elementos de una lista o los caracteres de una cadena utilizando un bucle for.\n",
    "\n",
    "La funcion **range()** devuelve un rango de valores:\n",
    "- Si se le pasa un solo parámetro, devuelve los valores desde 0 hasta el valor indicado. \n",
    "- Si se le pasan dos parámetros, devuelve los valores desde el primer parámetro hasta el segundo parámetro. \n",
    "- Si se le pasan tres parámetros, devuelve los valores desde el primer parámetro hasta el segundo parámetro con el paso indicado. El valor final no es inclusivo, es decir, el valor del segundo parámetro no se incluye en el rango."
   ]
  },
  {
   "cell_type": "code",
   "execution_count": null,
   "metadata": {},
   "outputs": [],
   "source": [
    "cadena=\"abcde\"\n",
    "for caracter in cadena:\n",
    "    print(caracter,end=\" \")"
   ]
  },
  {
   "cell_type": "code",
   "execution_count": null,
   "metadata": {},
   "outputs": [],
   "source": [
    "lista = [55,66,77,88,99]\n",
    "for numero in lista:\n",
    "    print(numero,end=\" \")"
   ]
  },
  {
   "cell_type": "code",
   "execution_count": null,
   "metadata": {},
   "outputs": [],
   "source": [
    "for numero in range(5):\n",
    "    print(numero,end=\" \")"
   ]
  },
  {
   "cell_type": "code",
   "execution_count": null,
   "metadata": {},
   "outputs": [],
   "source": [
    "competidores = [\"Juan\",\"Maria\",\"Ana\",\"Jose\"]\n",
    "for posicion, nombre in enumerate(competidores):\n",
    "    print(nombre,\"llegó en la posición\",posicion+1)"
   ]
  },
  {
   "attachments": {},
   "cell_type": "markdown",
   "metadata": {},
   "source": [
    "\n",
    "#### 5. <u>**Funciones**</u>\n"
   ]
  },
  {
   "attachments": {},
   "cell_type": "markdown",
   "metadata": {},
   "source": [
    "\n",
    "Una función es un bloque de código que se ejecuta cuando es llamado. Las funciones se utilizan para organizar el código en bloques lógicos, y así poder reutilizarlos. En Python, las funciones se definen con la palabra reservada **def**.\n",
    "\n",
    "Para llamar a una función se escribe el nombre de la función seguido de paréntesis. Si la función recibe parámetros, se escriben los valores entre paréntesis. Si la función no recibe parámetros, se escriben paréntesis vacíos. Los parámetros se separan con comas.\n",
    "\n",
    "**Ejemplos:**\n"
   ]
  },
  {
   "cell_type": "code",
   "execution_count": null,
   "metadata": {},
   "outputs": [],
   "source": [
    "def mi_funcion():\n",
    "    print(\"Escuela de Programación\")\n",
    "\n",
    "mi_funcion()"
   ]
  },
  {
   "attachments": {},
   "cell_type": "markdown",
   "metadata": {},
   "source": [
    "Para devolver un valor desde una función se utiliza la palabra reservada **return**. Si la función no devuelve ningún valor, se utiliza la palabra reservada **pass**."
   ]
  },
  {
   "cell_type": "code",
   "execution_count": null,
   "metadata": {},
   "outputs": [],
   "source": [
    "def suma(a,b):\n",
    "    return a+b\n",
    "\n",
    "resultado = suma(5,10)\n",
    "print(resultado)"
   ]
  },
  {
   "cell_type": "code",
   "execution_count": null,
   "metadata": {},
   "outputs": [],
   "source": [
    "def funcion_vacia():\n",
    "    pass"
   ]
  },
  {
   "attachments": {},
   "cell_type": "markdown",
   "metadata": {},
   "source": [
    "Dentro de la función, los parámetros se comportan como variables locales a menos que se indique lo contrario.\n",
    "\n",
    "Para utilizar una variable global dentro de una función, se debe utilizar la palabra reservada **global**.\n",
    "\n",
    "**Ejemplos:**"
   ]
  },
  {
   "cell_type": "code",
   "execution_count": null,
   "metadata": {},
   "outputs": [],
   "source": [
    "def sumar_numero_local(numero):\n",
    "    numero=numero+10\n",
    "    return numero\n",
    "def sumar_numero_global():\n",
    "    global numero\n",
    "    numero=numero+10\n",
    "    return numero+10\n",
    "\n",
    "numero = 5      # Variable global\n",
    "print(sumar_numero_local(numero))   # No se modifica\n",
    "print(\"Numero sigue siendo:\",numero)   \n",
    "sumar_numero_global()               # Se modifica\n",
    "print(\"Ahora numero es:\",numero)"
   ]
  },
  {
   "attachments": {},
   "cell_type": "markdown",
   "metadata": {},
   "source": [
    "Las funciones pueden llamarse a sí mismas. A esto se lo conoce como **recursividad**.\n",
    "El problema de la recursividad es que puede generar un bucle infinito si no se indica una condición de salida, además de consumir más memoria que una función iterativa.\n",
    "\n",
    "**Ejemplos:**"
   ]
  },
  {
   "cell_type": "code",
   "execution_count": null,
   "metadata": {},
   "outputs": [],
   "source": [
    "def funcion_recursiva(numero):\n",
    "    if numero<5:\n",
    "        print(numero)\n",
    "        funcion_recursiva(numero+1)\n",
    "    print(\"Llamada número:\",numero)\n",
    "\n",
    "funcion_recursiva(1)"
   ]
  },
  {
   "attachments": {},
   "cell_type": "markdown",
   "metadata": {},
   "source": [
    "#### 6. <u>**Clases y objetos**</u>"
   ]
  },
  {
   "attachments": {},
   "cell_type": "markdown",
   "metadata": {},
   "source": [
    "Las clases son un tipo de dato que se utiliza para crear objetos. Los objetos son una instancia de una clase. Las clases se definen con la palabra reservada **class**. Los objetos se crean utilizando el nombre de la clase y paréntesis. Si la clase recibe parámetros, se escriben los valores entre paréntesis. Si la clase no recibe parámetros, se escriben paréntesis vacíos. Los parámetros se separan con comas.\n",
    "\n",
    "Las clases nos permiten agrupar datos y métodos. Los datos se conocen como **atributos** y los métodos se conocen como **métodos de instancia**. Los métodos de instancia se definen como las funciones, pero dentro de la clase. Para acceder a los atributos y métodos de instancia se utiliza el operador **.**.\n",
    "\n",
    "Los métodos de instancia pueden recibir parámetros. El primer parámetro de un método de instancia siempre es **self**. **Self** es una referencia al objeto actual. Cuando se llama a un método de instancia, no es necesario pasar el parámetro **self**. Python lo pasa automáticamente.\n",
    "\n",
    "La funcion **__ __init__ __** es un método especial que se ejecuta cuando se crea un objeto. Se utiliza para inicializar los atributos del objeto. El primer parámetro de __init__ siempre es **self**.\n",
    "\n",
    "Podemos crear atributos semi-privados utilizando dos guiones bajos ( **__** ) al principio del nombre del atributo. Los atributos semi-privados solo pueden ser accedidos desde dentro de la clase. Para acceder a los atributos semi-privados desde fuera de la clase, se utiliza el nombre de la clase, dos guiones bajos ( **__** ) y el nombre del atributo. Por defecto, los atributos son públicos.\n",
    "\n",
    "**Ejemplos:**"
   ]
  },
  {
   "cell_type": "code",
   "execution_count": null,
   "metadata": {},
   "outputs": [],
   "source": [
    "class MiClase:\n",
    "    def __init__(self, _atributo_1, _atributo_2):\n",
    "        self.atributo_1 = _atributo_1\n",
    "        self.atributo_2 = _atributo_2\n",
    "        self.atributo_3 = True          # Atributo predeterminado\n",
    "        self._atributo_privado = \"Privado\"   # Atributo privado\n",
    "    \n",
    "    def mi_metodo(self):\n",
    "        print(\"Mi método\")\n",
    "\n",
    "    def mi_metodo_2(self, parametro_1, parametro_2):\n",
    "        print(parametro_1, parametro_2)\n",
    "\n",
    "    def mi_metodo_3(self):\n",
    "        print(self.atributo_1, self.atributo_2)\n",
    "\n",
    "mi_objeto = MiClase(\"Hola\", 5)\n",
    "mi_objeto.mi_metodo()\n",
    "mi_objeto.mi_metodo_2(\"Chau\", 100)\n",
    "mi_objeto.mi_metodo_3()"
   ]
  },
  {
   "attachments": {},
   "cell_type": "markdown",
   "metadata": {},
   "source": [
    "Podemos utilizar el concepto de herencia para crear una clase que herede los atributos y métodos de otra clase. Para ello, se debe pasar el nombre de la clase de la que se desea heredar como parámetro de la clase. Los métodos de la clase padre se pueden sobreescribir en la clase hija. Para llamar a un método de la clase padre desde la clase hija, se utiliza la función **super()**.\n",
    "\n",
    "**Ejemplos:**"
   ]
  },
  {
   "cell_type": "code",
   "execution_count": null,
   "metadata": {},
   "outputs": [],
   "source": [
    "class MiClasePadre():\n",
    "    def __init__(self, _atributo_1, _atributo_2):\n",
    "        self.atributo_1 = _atributo_1\n",
    "        self.atributo_2 = _atributo_2\n",
    "\n",
    "    def mi_metodo(self):\n",
    "        print(\"Mi método\")\n",
    "\n",
    "class MiClaseHija(MiClasePadre):\n",
    "    def __init__(self, _atributo_1, _atributo_2, _atributo_3):\n",
    "        super().__init__(_atributo_1, _atributo_2)\n",
    "        self.atributo_3 = _atributo_3\n",
    "\n",
    "    def mi_metodo_2(self):\n",
    "        print(\"Mi método 2\")\n",
    "\n",
    "mi_objeto = MiClaseHija(\"Hola\", 5, True)\n",
    "mi_objeto.mi_metodo()       # Heredado de MiClasePadre, no es necesario definirlo en MiClaseHija\n",
    "mi_objeto.mi_metodo_2()"
   ]
  },
  {
   "attachments": {},
   "cell_type": "markdown",
   "metadata": {},
   "source": [
    "\n",
    "#### 7. <u>**Módulos**</u>\n"
   ]
  },
  {
   "attachments": {},
   "cell_type": "markdown",
   "metadata": {},
   "source": [
    "\n",
    "Un módulo es un archivo que contiene código Python. Los módulos se utilizan para organizar el código en archivos independientes, y así poder reutilizarlos. Para utilizar un módulo, primero debe ser importado con la palabra reservada **import**.\n",
    "\n",
    "Si deseamos importar un módulo con un nombre diferente, podemos utilizar la palabra reservada **as**.\n",
    "\n",
    "Si deseamos importar solo algunas funciones de un módulo, podemos utilizar la palabra reservada **from**.\n",
    "\n",
    "**Ejemplos:**\n",
    "```python\n",
    "import math\n",
    "import numpy as np\n",
    "from pandas import DataFrame, Series\n",
    "```"
   ]
  },
  {
   "attachments": {},
   "cell_type": "markdown",
   "metadata": {},
   "source": [
    "#### 8. <u>**Manejo de archivos**</u>"
   ]
  },
  {
   "attachments": {},
   "cell_type": "markdown",
   "metadata": {},
   "source": [
    "Para abrir un archivo se utiliza la función **open()**. El primer parámetro es el nombre del archivo, y el segundo parámetro es el modo de apertura. Los modos de apertura son:\n",
    "- **r**: Solo lectura. El archivo debe existir.\n",
    "- **w**: Solo escritura. Si el archivo no existe, se crea. Si el archivo existe, se sobreescribe.\n",
    "- **a**: Solo escritura. Si el archivo no existe, se crea. Si el archivo existe, se agrega el contenido al final del archivo.\n",
    "- **r+**: Lectura y escritura. El archivo debe existir.\n",
    "- **w+**: Lectura y escritura. Si el archivo no existe, se crea. Si el archivo existe, se sobreescribe.\n",
    "- **a+**: Lectura y escritura. Si el archivo no existe, se crea. Si el archivo existe, se agrega el contenido al final del archivo.\n",
    "\n",
    "Para cerrar un archivo se utiliza el método **close()**.\n",
    "\n",
    "Para leer el contenido de un archivo se utiliza el método **read()**. Si se le pasa un parámetro, lee la cantidad de caracteres indicada. Si no se le pasa ningún parámetro, lee todo el contenido del archivo.\n",
    "\n",
    "Para escribir en un archivo se utiliza el método **write()**. Si se le pasa un parámetro, escribe el contenido indicado. Si no se le pasa ningún parámetro, escribe una cadena vacía.\n",
    "\n",
    "Para leer el contenido de un archivo línea por línea se utiliza el método **readline()**. Si se le pasa un parámetro, lee la cantidad de caracteres indicada. Si no se le pasa ningún parámetro, lee una línea del archivo.\n",
    "\n",
    "Para escribir en un archivo línea por línea se utiliza el método **writelines()**. Si se le pasa un parámetro, escribe el contenido indicado. Si no se le pasa ningún parámetro, escribe una lista vacía.\n",
    "\n",
    "**Ejemplos:**"
   ]
  },
  {
   "cell_type": "code",
   "execution_count": null,
   "metadata": {},
   "outputs": [],
   "source": [
    "archivo = open(\"archivo.txt\",\"r\")\n",
    "contenido = archivo.readlines()\n",
    "print(contenido)\n",
    "archivo.close()\n"
   ]
  },
  {
   "attachments": {},
   "cell_type": "markdown",
   "metadata": {},
   "source": [
    "Otra forma de abrir un archivo es utilizando la sentencia **with**. De esta forma, no es necesario cerrar el archivo.\n",
    "\n",
    "**Ejemplos:**"
   ]
  },
  {
   "cell_type": "code",
   "execution_count": null,
   "metadata": {},
   "outputs": [],
   "source": [
    "with open(\"archivo.txt\",\"r\") as archivo:\n",
    "    contenido = archivo.readlines()\n",
    "    print(contenido)"
   ]
  },
  {
   "attachments": {},
   "cell_type": "markdown",
   "metadata": {},
   "source": [
    "#### 9. <u>**Excepciones**</u>"
   ]
  },
  {
   "attachments": {},
   "cell_type": "markdown",
   "metadata": {},
   "source": [
    "Las excepciones son errores que ocurren durante la ejecución de un programa. Para manejar las excepciones se utiliza la sentencia **try**. Si ocurre una excepción, se ejecuta el bloque de código dentro de la sentencia **except**. Si no ocurre ninguna excepción, se ejecuta el bloque de código dentro de la sentencia **else**. Siempre se ejecuta el bloque de código dentro de la sentencia **finally**.\n",
    "\n",
    "El manejo de errores nos permite controlar el flujo de ejecución del programa. Por ejemplo, si se produce un error, podemos mostrar un mensaje de error y continuar con la ejecución del programa.\n",
    "\n",
    "**Ejemplos:**"
   ]
  },
  {
   "cell_type": "code",
   "execution_count": null,
   "metadata": {},
   "outputs": [],
   "source": [
    "valor = 15\n",
    "#division = valor/0\n",
    "try:\n",
    "    division = valor/0\n",
    "except:\n",
    "    print(\"Error al dividir por cero\")\n",
    "else:\n",
    "    print(\"La división fue exitosa\")\n",
    "\n",
    "print(\"El programa sigue funcionando sin detenerse debido al error\")"
   ]
  },
  {
   "attachments": {},
   "cell_type": "markdown",
   "metadata": {},
   "source": [
    "#### Extra: <u>**Uso básico de git**</u>"
   ]
  },
  {
   "attachments": {},
   "cell_type": "markdown",
   "metadata": {},
   "source": [
    "Git es un sistema de control de versiones. Se utiliza para llevar un registro de los cambios realizados en un proyecto. Para utilizar git, primero debemos instalarlo. Luego, debemos crear un repositorio. Un repositorio es un directorio donde se almacenan los archivos del proyecto. \n",
    "\n",
    "- Para crear un repositorio, debemos ejecutar el comando **git init**. \n",
    "\n",
    "- Para agregar un archivo al repositorio, debemos ejecutar el comando **git add**. \n",
    "\n",
    "- Para confirmar los cambios realizados en el repositorio, debemos ejecutar el comando **git commit**. \n",
    "\n",
    "- Para subir los cambios al repositorio remoto, debemos ejecutar el comando **git push**. \n",
    "\n",
    "- Para descargar los cambios del repositorio remoto, debemos ejecutar el comando **git pull**.\n",
    "\n",
    "*Git es muy utilizado en el desarrollo de software, ya que permite trabajar en equipo de forma colaborativa. Cada desarrollador puede trabajar en su propia rama, y luego subir los cambios al repositorio remoto. De esta forma, se evitan conflictos entre los desarrolladores.*\n",
    "\n",
    "**Tener nuestros codigos en repositorios de github nos permite hacer visible nuestro trabajo y compartirlo con otros desarrolladores. Será muy útil durante el curso para realizar la entrega de actividades y para trabajar en equipo**"
   ]
  }
 ],
 "metadata": {
  "kernelspec": {
   "display_name": "Python 3",
   "language": "python",
   "name": "python3"
  },
  "language_info": {
   "codemirror_mode": {
    "name": "ipython",
    "version": 3
   },
   "file_extension": ".py",
   "mimetype": "text/x-python",
   "name": "python",
   "nbconvert_exporter": "python",
   "pygments_lexer": "ipython3",
   "version": "3.11.1"
  },
  "orig_nbformat": 4
 },
 "nbformat": 4,
 "nbformat_minor": 2
}

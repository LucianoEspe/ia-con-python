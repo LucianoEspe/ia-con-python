{
 "cells": [
  {
   "cell_type": "markdown",
   "metadata": {},
   "source": [
    "# ACTIVIDAD 1 - BÚSQUEDA (Algoritmos DFS, BFS, Greedy, A*)"
   ]
  },
  {
   "cell_type": "markdown",
   "metadata": {},
   "source": [
    "Librerías que utilizaremos para realizar la actividad:"
   ]
  },
  {
   "cell_type": "code",
   "execution_count": null,
   "metadata": {},
   "outputs": [],
   "source": [
    "import osmnx as ox\n",
    "import random\n",
    "import heapq"
   ]
  },
  {
   "cell_type": "markdown",
   "metadata": {},
   "source": [
    "## Carga del mapa y estilos\n",
    "Aquí deberán cargar el mapa en la ubicación que deseen, con la funcion ```python ox.graph_from_place``` obtendremos un grafo dirigido con la información del mapa, incluidos sus nodos y aristas (calles que unen los nodos)"
   ]
  },
  {
   "cell_type": "code",
   "execution_count": null,
   "metadata": {},
   "outputs": [],
   "source": [
    "lugar = \"Indicar la ubicación del mapa que desean usar\" # Ej: \"Godoy Cruz, Mendoza, Argentina\"\n",
    "G = ox.graph_from_place(lugar, network_type=\"drive\")"
   ]
  },
  {
   "cell_type": "markdown",
   "metadata": {},
   "source": [
    "Funciones para dar estilo al mapa, pueden modificar colores y tamaños de los elementos, o ignorar esta celda si no desean modificar el estilo del mapa."
   ]
  },
  {
   "cell_type": "code",
   "execution_count": null,
   "metadata": {},
   "outputs": [],
   "source": [
    "def arista_no_visitada(edge):        \n",
    "    G.edges[edge][\"color\"] = \"#22609b\"\n",
    "    G.edges[edge][\"alpha\"] = 0.2\n",
    "    G.edges[edge][\"linewidth\"] = 0.5\n",
    "\n",
    "def arista_visitada(edge):\n",
    "    G.edges[edge][\"color\"] = \"#22609b\"\n",
    "    G.edges[edge][\"alpha\"] = 1\n",
    "    G.edges[edge][\"linewidth\"] = 1\n",
    "\n",
    "def arista_activa(edge):\n",
    "    G.edges[edge][\"color\"] = 'lightblue'\n",
    "    G.edges[edge][\"alpha\"] = 1\n",
    "    G.edges[edge][\"linewidth\"] = 1\n",
    "\n",
    "def arista_solucion(edge):\n",
    "    G.edges[edge][\"color\"] = \"white\"\n",
    "    G.edges[edge][\"alpha\"] = 1\n",
    "    G.edges[edge][\"linewidth\"] = 1"
   ]
  },
  {
   "cell_type": "markdown",
   "metadata": {},
   "source": [
    "Función que modifica el gráfico para aplicar los estilos que vayamos dando a cada nodo o arista"
   ]
  },
  {
   "cell_type": "code",
   "execution_count": null,
   "metadata": {},
   "outputs": [],
   "source": [
    "def plot_graph():\n",
    "    ox.plot_graph(\n",
    "        G,\n",
    "        node_size =  [ G.nodes[node][\"size\"] for node in G.nodes ],\n",
    "        edge_color = [ G.edges[edge][\"color\"] for edge in G.edges ],\n",
    "        edge_alpha = [ G.edges[edge][\"alpha\"] for edge in G.edges ],\n",
    "        edge_linewidth = [ G.edges[edge][\"linewidth\"] for edge in G.edges ],\n",
    "        node_color = \"white\",\n",
    "        bgcolor = \"#001028\"\n",
    "    )"
   ]
  },
  {
   "cell_type": "markdown",
   "metadata": {},
   "source": [
    "## Implementación de los algoritmos\n",
    "En todos los casos, las funciones recibirán el grafo G, el nodo de inicio y el nodo de la meta"
   ]
  },
  {
   "cell_type": "markdown",
   "metadata": {},
   "source": [
    "### Búsqueda no informada"
   ]
  },
  {
   "cell_type": "code",
   "execution_count": null,
   "metadata": {},
   "outputs": [],
   "source": [
    "def dfs(G, inicio, meta):\n",
    "    # Implementar el algoritmo Depth-First Search\n",
    "    # Pista: utilizar los 5 pasos que vimos en clase para ir explorando los nodos\n",
    "    # 1) Dar estilo a nodos y aristas (estilos iniciales)\n",
    "    # 2) Los nodos presentan son diccionarios con las siguientes claves:\n",
    "    #   - \"y\": coordenadas y del nodo\n",
    "    #   - \"x\": coordenadas x del nodo\n",
    "    #   - \"street_count\": numero de calles que salen del nodo\n",
    "    # 3) Para dar los estilos iniciales, todos los nodos deberian tener un size de 0, a menos que sean el inicio o la meta,\n",
    "    # en ese caso dar un poco mas de tamaño para que sean visibles en el mapa\n",
    "    # 4) Todos los nodos deberán tener un nodo \"padre\" (para el incio, el padre es None)\n",
    "    # 5) Inicializar la frontera con el nodo inicial dentro\n",
    "    # 6) Inicializar lista de nodos explorados\n",
    "    # 7) Bucle principal (revisar teoria)\n",
    "    pass"
   ]
  },
  {
   "cell_type": "code",
   "execution_count": null,
   "metadata": {},
   "outputs": [],
   "source": [
    "def bfs(G, inicio, meta):\n",
    "    # Implementar el algoritmo Breadth-First Search\n",
    "    # Pista: este algoritmo es igual que DFS, pero presenta una diferencia en el funcionamiento de la frontera\n",
    "    pass"
   ]
  },
  {
   "cell_type": "markdown",
   "metadata": {},
   "source": [
    "### Búsqueda informada"
   ]
  },
  {
   "cell_type": "code",
   "execution_count": null,
   "metadata": {},
   "outputs": [],
   "source": [
    "def heuristica(nodo_1, nodo_2):\n",
    "    # Implementar alguna funcion heuristica, ya sea la distancia de Manhattan o la distancia euclideana\n",
    "    \n",
    "    pass"
   ]
  },
  {
   "cell_type": "code",
   "execution_count": null,
   "metadata": {},
   "outputs": [],
   "source": [
    "def gbfs(G, inicio, meta):\n",
    "    # Implementar el algoritmo Greedy Best-First Search\n",
    "    # Pista: utilizar heapq para controlar la frontera\n",
    "    # en la misma pueden guardar, ademas del nodo, su distancia a la meta (distancia, nodo)\n",
    "    pass"
   ]
  },
  {
   "cell_type": "code",
   "execution_count": null,
   "metadata": {},
   "outputs": [],
   "source": [
    "def a_estrella(G, inicio, meta):\n",
    "    # Implementar el algoritmo A*\n",
    "    # Pista: mismo enfoque que GBFS, pero deben implementar el costo de llegar a un nodo específico, ademas de la heurística\n",
    "    pass"
   ]
  },
  {
   "cell_type": "markdown",
   "metadata": {},
   "source": [
    "## Ejecución y análisis\n"
   ]
  },
  {
   "cell_type": "markdown",
   "metadata": {},
   "source": [
    "Seleccionamos dos nodos del grafo al azar utilizando random:"
   ]
  },
  {
   "cell_type": "code",
   "execution_count": null,
   "metadata": {},
   "outputs": [],
   "source": [
    "inicio = random.choice(list(G.nodes))\n",
    "print(f\"Inicio: {inicio}\")\n",
    "meta = random.choice(list(G.nodes))\n",
    "print(f\"Meta: {meta}\")"
   ]
  },
  {
   "cell_type": "markdown",
   "metadata": {},
   "source": [
    "*Pueden utilizar la funcion nearest_nodes para obtener los nodos más cercanos a un punto en el mapa"
   ]
  },
  {
   "cell_type": "code",
   "execution_count": null,
   "metadata": {},
   "outputs": [],
   "source": [
    "# Ejecutar cada algoritmo acompañado de la grafica correspondiente\n",
    "# deberán crear una función que de estilos a las aristas que unen los nodos de la solución"
   ]
  }
 ],
 "metadata": {
  "language_info": {
   "name": "python"
  }
 },
 "nbformat": 4,
 "nbformat_minor": 2
}
